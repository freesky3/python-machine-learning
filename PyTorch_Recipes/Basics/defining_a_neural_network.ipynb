{
  "cells": [
    {
      "cell_type": "markdown",
      "metadata": {
        "id": "view-in-github",
        "colab_type": "text"
      },
      "source": [
        "<a href=\"https://colab.research.google.com/github/freesky3/python-machine-learning/blob/main/PyTorch_Recipes/Basics/defining_a_neural_network.ipynb\" target=\"_parent\"><img src=\"https://colab.research.google.com/assets/colab-badge.svg\" alt=\"Open In Colab\"/></a>"
      ]
    },
    {
      "cell_type": "code",
      "execution_count": null,
      "metadata": {
        "id": "91FJkotlhW2j"
      },
      "outputs": [],
      "source": [
        "# For tips on running notebooks in Google Colab, see\n",
        "# https://pytorch.org/tutorials/beginner/colab\n",
        "%matplotlib inline"
      ]
    },
    {
      "cell_type": "markdown",
      "metadata": {
        "id": "5lYgel3jhW2m"
      },
      "source": [
        "Defining a Neural Network in PyTorch\n",
        "====================================\n",
        "\n",
        "Deep learning uses artificial neural networks (models), which are\n",
        "computing systems that are composed of many layers of interconnected\n",
        "units. By passing data through these interconnected units, a neural\n",
        "network is able to learn how to approximate the computations required to\n",
        "transform inputs into outputs. In PyTorch, neural networks can be\n",
        "constructed using the `torch.nn` package.\n",
        "\n",
        "Introduction\n",
        "------------\n",
        "\n",
        "PyTorch provides the elegantly designed modules and classes, including\n",
        "`torch.nn`, to help you create and train neural networks. An `nn.Module`\n",
        "contains layers, and a method `forward(input)` that returns the\n",
        "`output`.\n",
        "\n",
        "In this recipe, we will use `torch.nn` to define a neural network\n",
        "intended for the [MNIST\n",
        "dataset](hhttps://pytorch.org/vision/stable/generated/torchvision.datasets.MNIST.html#torchvision.datasets.MNIST).\n",
        "\n",
        "Setup\n",
        "-----\n",
        "\n",
        "Before we begin, we need to install `torch` if it isn't already\n",
        "available.\n",
        "\n",
        "    pip install torch\n"
      ]
    },
    {
      "cell_type": "markdown",
      "metadata": {
        "id": "srvYqS-whW2o"
      },
      "source": [
        "Steps\n",
        "=====\n",
        "\n",
        "1.  Import all necessary libraries for loading our data\n",
        "2.  Define and initialize the neural network\n",
        "3.  Specify how data will pass through your model\n",
        "4.  \\[Optional\\] Pass data through your model to test\n",
        "\n",
        "1. Import necessary libraries for loading our data\n",
        "--------------------------------------------------\n",
        "\n",
        "For this recipe, we will use `torch` and its subsidiaries `torch.nn` and\n",
        "`torch.nn.functional`.\n"
      ]
    },
    {
      "cell_type": "code",
      "execution_count": 1,
      "metadata": {
        "id": "_cfNzKGWhW2p"
      },
      "outputs": [],
      "source": [
        "import torch\n",
        "import torch.nn as nn\n",
        "import torch.nn.functional as F"
      ]
    },
    {
      "cell_type": "markdown",
      "metadata": {
        "id": "WeC3Jv1ChW2q"
      },
      "source": [
        "2. Define and initialize the neural network\n",
        "===========================================\n",
        "\n",
        "Our network will recognize images. We will use a process built into\n",
        "PyTorch called convolution. Convolution adds each element of an image to\n",
        "its local neighbors, weighted by a kernel, or a small matrix, that helps\n",
        "us extract certain features (like edge detection, sharpness, blurriness,\n",
        "etc.) from the input image.\n",
        "\n",
        "There are two requirements for defining the `Net` class of your model.\n",
        "The first is writing an \\_\\_init\\_\\_ function that references\n",
        "`nn.Module`. This function is where you define the fully connected\n",
        "layers in your neural network.\n",
        "\n",
        "Using convolution, we will define our model to take 1 input image\n",
        "channel, and output match our target of 10 labels representing numbers 0\n",
        "through 9. This algorithm is yours to create, we will follow a standard\n",
        "MNIST algorithm.\n"
      ]
    },
    {
      "cell_type": "code",
      "execution_count": 2,
      "metadata": {
        "id": "KbPBlV3OhW2r",
        "outputId": "b0b670e6-7d1c-4ca2-88a2-30a3e5aa5b4f",
        "colab": {
          "base_uri": "https://localhost:8080/"
        }
      },
      "outputs": [
        {
          "output_type": "stream",
          "name": "stdout",
          "text": [
            "Net(\n",
            "  (conv1): Conv2d(1, 32, kernel_size=(3, 3), stride=(1, 1))\n",
            "  (conv2): Conv2d(32, 64, kernel_size=(3, 3), stride=(1, 1))\n",
            "  (dropout1): Dropout2d(p=0.25, inplace=False)\n",
            "  (dropout2): Dropout2d(p=0.5, inplace=False)\n",
            "  (fc1): Linear(in_features=9216, out_features=128, bias=True)\n",
            "  (fc2): Linear(in_features=128, out_features=10, bias=True)\n",
            ")\n"
          ]
        }
      ],
      "source": [
        "class Net(nn.Module):\n",
        "    def __init__(self):\n",
        "      super(Net, self).__init__()\n",
        "\n",
        "      # First 2D convolutional layer, taking in 1 input channel (image),\n",
        "      # outputting 32 convolutional features, with a square kernel size of 3\n",
        "      self.conv1 = nn.Conv2d(1, 32, 3, 1) # 1是卷积步长stride\n",
        "      # Second 2D convolutional layer, taking in the 32 input layers,\n",
        "      # outputting 64 convolutional features, with a square kernel size of 3\n",
        "      self.conv2 = nn.Conv2d(32, 64, 3, 1)\n",
        "\n",
        "      # Designed to ensure that adjacent pixels are either all 0s or all active\n",
        "      # with an input probability\n",
        "      # Dropout 会随机将输入张量的某些通道（channel）置为 0。括号里是置为零的概率\n",
        "      self.dropout1 = nn.Dropout2d(0.25)\n",
        "      self.dropout2 = nn.Dropout2d(0.5)\n",
        "\n",
        "      # First fully connected layer\n",
        "      self.fc1 = nn.Linear(9216, 128)\n",
        "      # Second fully connected layer that outputs our 10 labels\n",
        "      self.fc2 = nn.Linear(128, 10)\n",
        "\n",
        "my_nn = Net()\n",
        "print(my_nn)"
      ]
    },
    {
      "cell_type": "markdown",
      "metadata": {
        "id": "smlmmciUhW2s"
      },
      "source": [
        "We have finished defining our neural network, now we have to define how\n",
        "our data will pass through it.\n",
        "\n",
        "3. Specify how data will pass through your model\n",
        "================================================\n",
        "\n",
        "When you use PyTorch to build a model, you just have to define the\n",
        "`forward` function, that will pass the data into the computation graph\n",
        "(i.e. our neural network). This will represent our feed-forward\n",
        "algorithm.\n",
        "\n",
        "You can use any of the Tensor operations in the `forward` function.\n"
      ]
    },
    {
      "cell_type": "code",
      "execution_count": 4,
      "metadata": {
        "id": "XBpwxcl1hW2s"
      },
      "outputs": [],
      "source": [
        "class Net(nn.Module):\n",
        "    def __init__(self):\n",
        "      super(Net, self).__init__()\n",
        "      self.conv1 = nn.Conv2d(1, 32, 3, 1)\n",
        "      self.conv2 = nn.Conv2d(32, 64, 3, 1)\n",
        "      self.dropout1 = nn.Dropout2d(0.25)\n",
        "      self.dropout2 = nn.Dropout2d(0.5)\n",
        "      self.fc1 = nn.Linear(9216, 128)\n",
        "      self.fc2 = nn.Linear(128, 10)\n",
        "\n",
        "    # x represents our data\n",
        "    def forward(self, x):\n",
        "      # Pass data through conv1\n",
        "      x = self.conv1(x) # 1*32*26*26\n",
        "      # Use the rectified-linear activation function over x\n",
        "      x = F.relu(x) # 1*64*24*24\n",
        "\n",
        "      x = self.conv2(x)\n",
        "      x = F.relu(x)\n",
        "\n",
        "      # Run max pooling over x\n",
        "      x = F.max_pool2d(x, 2) # 1*64*12*12 = 9216\n",
        "      # Pass data through dropout1\n",
        "      x = self.dropout1(x)\n",
        "      # Flatten x with start_dim=1\n",
        "      x = torch.flatten(x, 1)\n",
        "      # Pass data through ``fc1``\n",
        "      x = self.fc1(x)\n",
        "      x = F.relu(x)\n",
        "      x = self.dropout2(x)\n",
        "      x = self.fc2(x)\n",
        "\n",
        "      # Apply softmax to x\n",
        "      output = F.log_softmax(x, dim=1)\n",
        "      return output"
      ]
    },
    {
      "cell_type": "markdown",
      "metadata": {
        "id": "XO97jT-whW2t"
      },
      "source": [
        "4. \\[Optional\\] Pass data through your model to test\n",
        "====================================================\n",
        "\n",
        "To ensure we receive our desired output, let's test our model by passing\n",
        "some random data through it.\n"
      ]
    },
    {
      "cell_type": "code",
      "execution_count": 10,
      "metadata": {
        "id": "dgbiN97vhW2t",
        "outputId": "61a89452-7ca1-4c0c-b307-2c86e3459402",
        "colab": {
          "base_uri": "https://localhost:8080/",
          "height": 575
        }
      },
      "outputs": [
        {
          "output_type": "stream",
          "name": "stdout",
          "text": [
            "[[-2.2968934 -2.2163343 -2.2288694 -2.3337562 -2.2643187 -2.4268255\n",
            "  -2.3595994 -2.2541287 -2.3362994 -2.3277502]]\n",
            "[[0.1005708  0.10900796 0.10765007 0.09693097 0.1039008  0.08831675\n",
            "  0.09445806 0.10496496 0.09668477 0.09751489]]\n",
            "1.0\n"
          ]
        },
        {
          "output_type": "stream",
          "name": "stderr",
          "text": [
            "/usr/local/lib/python3.10/dist-packages/torch/nn/functional.py:1538: UserWarning: dropout2d: Received a 2-D input to dropout2d, which is deprecated and will result in an error in a future release. To retain the behavior and silence this warning, please use dropout instead. Note that dropout2d exists to provide channel-wise dropout on inputs with 2 spatial dimensions, a channel dimension, and an optional batch dimension (i.e. 3D or 4D inputs).\n",
            "  warnings.warn(warn_msg)\n"
          ]
        },
        {
          "output_type": "display_data",
          "data": {
            "text/plain": [
              "<Figure size 640x480 with 1 Axes>"
            ],
            "image/png": "[encoded data removed]"
          },
          "metadata": {}
        }
      ],
      "source": [
        "import matplotlib.pyplot as plt\n",
        "import numpy as np\n",
        "# Equates to one random 28x28 image\n",
        "random_data = torch.rand((1, 1, 28, 28)) # 1个样本，1个通道，28高，28宽\n",
        "\n",
        "img = random_data.squeeze()\n",
        "plt.imshow(img, cmap=\"gray\")\n",
        "\n",
        "my_nn = Net()\n",
        "result = my_nn(random_data)\n",
        "result = result.detach().numpy()\n",
        "print (result)\n",
        "print(np.exp(result))\n",
        "print(np.exp(result).sum())"
      ]
    },
    {
      "cell_type": "markdown",
      "metadata": {
        "id": "tqy3ON2ThW2t"
      },
      "source": [
        "Each number in this resulting tensor equates to the prediction of the\n",
        "label the random tensor is associated to.\n",
        "\n",
        "Congratulations! You have successfully defined a neural network in\n",
        "PyTorch.\n",
        "\n",
        "Learn More\n",
        "==========\n",
        "\n",
        "Take a look at these other recipes to continue your learning:\n",
        "\n",
        "-   [What is a state\\_dict in\n",
        "    PyTorch](https://pytorch.org/tutorials/recipes/recipes/what_is_state_dict.html)\n",
        "-   [Saving and loading models for inference in\n",
        "    PyTorch](https://pytorch.org/tutorials/recipes/recipes/saving_and_loading_models_for_inference.html)\n"
      ]
    }
  ],
  "metadata": {
    "kernelspec": {
      "display_name": "Python 3",
      "name": "python3"
    },
    "language_info": {
      "codemirror_mode": {
        "name": "ipython",
        "version": 3
      },
      "file_extension": ".py",
      "mimetype": "text/x-python",
      "name": "python",
      "nbconvert_exporter": "python",
      "pygments_lexer": "ipython3",
      "version": "3.10.12"
    },
    "colab": {
      "provenance": [],
      "gpuType": "T4",
      "include_colab_link": true
    },
    "accelerator": "GPU"
  },
  "nbformat": 4,
  "nbformat_minor": 0
}