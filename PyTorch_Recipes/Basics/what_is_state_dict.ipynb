{
  "cells": [
    {
      "cell_type": "markdown",
      "metadata": {
        "id": "view-in-github",
        "colab_type": "text"
      },
      "source": [
        "<a href=\"https://colab.research.google.com/github/freesky3/python-machine-learning/blob/main/PyTorch_Recipes/Basics/what_is_state_dict.ipynb\" target=\"_parent\"><img src=\"https://colab.research.google.com/assets/colab-badge.svg\" alt=\"Open In Colab\"/></a>"
      ]
    },
    {
      "cell_type": "code",
      "execution_count": null,
      "metadata": {
        "id": "KYEuujNeop7w"
      },
      "outputs": [],
      "source": [
        "# For tips on running notebooks in Google Colab, see\n",
        "# https://pytorch.org/tutorials/beginner/colab\n",
        "%matplotlib inline"
      ]
    },
    {
      "cell_type": "markdown",
      "metadata": {
        "id": "jD7E1Vyoop73"
      },
      "source": [
        "What is a state\\_dict in PyTorch\n",
        "================================\n",
        "\n",
        "In PyTorch, the learnable parameters (i.e. weights and biases) of a\n",
        "`torch.nn.Module` model are contained in the model's parameters\n",
        "(accessed with `model.parameters()`). A `state_dict` is simply a Python\n",
        "dictionary object that maps each layer to its parameter tensor.\n",
        "\n",
        "Introduction\n",
        "------------\n",
        "\n",
        "A `state_dict` is an integral entity if you are interested in saving or\n",
        "loading models from PyTorch. Because `state_dict` objects are Python\n",
        "dictionaries, they can be easily saved, updated, altered, and restored,\n",
        "adding a great deal of modularity to PyTorch models and optimizers. Note\n",
        "that only layers with learnable parameters (convolutional layers, linear\n",
        "layers, etc.) and registered buffers (batchnorm's running\\_mean) have\n",
        "entries in the model's `state_dict`. Optimizer objects (`torch.optim`)\n",
        "also have a `state_dict`, which contains information about the\n",
        "optimizer's state, as well as the hyperparameters used. In this recipe,\n",
        "we will see how `state_dict` is used with a simple model.\n",
        "\n",
        "Setup\n",
        "-----\n",
        "\n",
        "Before we begin, we need to install `torch` if it isn't already\n",
        "available.\n",
        "\n",
        "``` {.sh}\n",
        "pip install torch\n",
        "```\n"
      ]
    },
    {
      "cell_type": "markdown",
      "metadata": {
        "id": "ca0_Y8xlop77"
      },
      "source": [
        "Steps\n",
        "=====\n",
        "\n",
        "1.  Import all necessary libraries for loading our data\n",
        "2.  Define and initialize the neural network\n",
        "3.  Initialize the optimizer\n",
        "4.  Access the model and optimizer `state_dict`\n",
        "\n",
        "1. Import necessary libraries for loading our data\n",
        "--------------------------------------------------\n",
        "\n",
        "For this recipe, we will use `torch` and its subsidiaries `torch.nn` and\n",
        "`torch.optim`.\n"
      ]
    },
    {
      "cell_type": "code",
      "execution_count": 1,
      "metadata": {
        "id": "KgNeCUlpop78"
      },
      "outputs": [],
      "source": [
        "import torch\n",
        "import torch.nn as nn\n",
        "import torch.nn.functional as F\n",
        "import torch.optim as optim"
      ]
    },
    {
      "cell_type": "markdown",
      "metadata": {
        "id": "VB19evyMop79"
      },
      "source": [
        "2. Define and initialize the neural network\n",
        "===========================================\n",
        "\n",
        "For sake of example, we will create a neural network for training\n",
        "images. To learn more see the Defining a Neural Network recipe.\n"
      ]
    },
    {
      "cell_type": "code",
      "execution_count": 2,
      "metadata": {
        "id": "N3-mUubeop7-",
        "outputId": "e735b52e-b6c2-45d2-b600-fbfca0c5b510",
        "colab": {
          "base_uri": "https://localhost:8080/"
        }
      },
      "outputs": [
        {
          "output_type": "stream",
          "name": "stdout",
          "text": [
            "Net(\n",
            "  (conv1): Conv2d(3, 6, kernel_size=(5, 5), stride=(1, 1))\n",
            "  (pool): MaxPool2d(kernel_size=2, stride=2, padding=0, dilation=1, ceil_mode=False)\n",
            "  (conv2): Conv2d(6, 16, kernel_size=(5, 5), stride=(1, 1))\n",
            "  (fc1): Linear(in_features=400, out_features=120, bias=True)\n",
            "  (fc2): Linear(in_features=120, out_features=84, bias=True)\n",
            "  (fc3): Linear(in_features=84, out_features=10, bias=True)\n",
            ")\n"
          ]
        }
      ],
      "source": [
        "class Net(nn.Module):\n",
        "    def __init__(self):\n",
        "        super(Net, self).__init__()\n",
        "        self.conv1 = nn.Conv2d(3, 6, 5) # RGB输入，6个卷积核输出，卷积核大小为5*5\n",
        "        self.pool = nn.MaxPool2d(2, 2) # 池化核大小为2*2，strike为2\n",
        "        self.conv2 = nn.Conv2d(6, 16, 5)\n",
        "        self.fc1 = nn.Linear(16 * 5 * 5, 120)\n",
        "        self.fc2 = nn.Linear(120, 84)\n",
        "        self.fc3 = nn.Linear(84, 10)\n",
        "\n",
        "    def forward(self, x):\n",
        "        x = self.pool(F.relu(self.conv1(x)))\n",
        "        x = self.pool(F.relu(self.conv2(x)))\n",
        "        x = x.view(-1, 16 * 5 * 5)\n",
        "        x = F.relu(self.fc1(x))\n",
        "        x = F.relu(self.fc2(x))\n",
        "        x = self.fc3(x)\n",
        "        return x\n",
        "\n",
        "net = Net()\n",
        "print(net)"
      ]
    },
    {
      "cell_type": "markdown",
      "metadata": {
        "id": "6Qae7xwqop7-"
      },
      "source": [
        "3. Initialize the optimizer\n",
        "===========================\n",
        "\n",
        "We will use SGD with momentum.\n"
      ]
    },
    {
      "cell_type": "code",
      "execution_count": 3,
      "metadata": {
        "id": "uRHYO4jOop7_"
      },
      "outputs": [],
      "source": [
        "optimizer = optim.SGD(net.parameters(), lr=0.001, momentum=0.9)"
      ]
    },
    {
      "cell_type": "markdown",
      "metadata": {
        "id": "HpjMW-eeop8A"
      },
      "source": [
        "4. Access the model and optimizer `state_dict`\n",
        "==============================================\n",
        "\n",
        "Now that we have constructed our model and optimizer, we can understand\n",
        "what is preserved in their respective `state_dict` properties.\n"
      ]
    },
    {
      "cell_type": "code",
      "execution_count": 4,
      "metadata": {
        "id": "6t2TW3nvop8B",
        "outputId": "dc3ced63-c0f0-40f9-c634-9269386abdea",
        "colab": {
          "base_uri": "https://localhost:8080/"
        }
      },
      "outputs": [
        {
          "output_type": "stream",
          "name": "stdout",
          "text": [
            "Model's state_dict:\n",
            "conv1.weight \t torch.Size([6, 3, 5, 5])\n",
            "conv1.bias \t torch.Size([6])\n",
            "conv2.weight \t torch.Size([16, 6, 5, 5])\n",
            "conv2.bias \t torch.Size([16])\n",
            "fc1.weight \t torch.Size([120, 400])\n",
            "fc1.bias \t torch.Size([120])\n",
            "fc2.weight \t torch.Size([84, 120])\n",
            "fc2.bias \t torch.Size([84])\n",
            "fc3.weight \t torch.Size([10, 84])\n",
            "fc3.bias \t torch.Size([10])\n",
            "\n",
            "Optimizer's state_dict:\n",
            "state \t {}\n",
            "param_groups \t [{'lr': 0.001, 'momentum': 0.9, 'dampening': 0, 'weight_decay': 0, 'nesterov': False, 'maximize': False, 'foreach': None, 'differentiable': False, 'fused': None, 'params': [0, 1, 2, 3, 4, 5, 6, 7, 8, 9]}]\n"
          ]
        }
      ],
      "source": [
        "# Print model's state_dict\n",
        "print(\"Model's state_dict:\")\n",
        "for param_tensor in net.state_dict():\n",
        "    print(param_tensor, \"\\t\", net.state_dict()[param_tensor].size())\n",
        "\n",
        "print()\n",
        "\n",
        "# Print optimizer's state_dict\n",
        "print(\"Optimizer's state_dict:\")\n",
        "for var_name in optimizer.state_dict():\n",
        "    print(var_name, \"\\t\", optimizer.state_dict()[var_name])"
      ]
    },
    {
      "cell_type": "markdown",
      "metadata": {
        "id": "GAF5hwP5op8C"
      },
      "source": [
        "This information is relevant for saving and loading the model and\n",
        "optimizers for future use.\n",
        "\n",
        "Congratulations! You have successfully used `state_dict` in PyTorch.\n",
        "\n",
        "Learn More\n",
        "==========\n",
        "\n",
        "Take a look at these other recipes to continue your learning:\n",
        "\n",
        "-   [Saving and loading models for inference in\n",
        "    PyTorch](https://pytorch.org/tutorials/recipes/recipes/saving_and_loading_models_for_inference.html)\n",
        "-   [Saving and loading a general checkpoint in\n",
        "    PyTorch](https://pytorch.org/tutorials/recipes/recipes/saving_and_loading_a_general_checkpoint.html)\n"
      ]
    }
  ],
  "metadata": {
    "kernelspec": {
      "display_name": "Python 3",
      "name": "python3"
    },
    "language_info": {
      "codemirror_mode": {
        "name": "ipython",
        "version": 3
      },
      "file_extension": ".py",
      "mimetype": "text/x-python",
      "name": "python",
      "nbconvert_exporter": "python",
      "pygments_lexer": "ipython3",
      "version": "3.10.12"
    },
    "colab": {
      "provenance": [],
      "gpuType": "T4",
      "include_colab_link": true
    },
    "accelerator": "GPU"
  },
  "nbformat": 4,
  "nbformat_minor": 0
}